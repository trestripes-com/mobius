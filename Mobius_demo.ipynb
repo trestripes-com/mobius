{
 "cells": [
  {
   "cell_type": "code",
   "execution_count": null,
   "metadata": {
    "colab": {},
    "colab_type": "code",
    "id": "Zc3tEFZnfpPd"
   },
   "outputs": [],
   "source": [
    "import matplotlib.pyplot as plt\n",
    "from matplotlib.pyplot import figure\n",
    "%matplotlib inline\n",
    "from pylab import *\n",
    "from numpy import *\n",
    "import numpy as np\n",
    "from PIL import Image\n",
    "import math\n",
    "import time\n",
    "from random import random\n",
    "from utils import mobius_fast_interpolation, getabcd_1fix"
   ]
  },
  {
   "cell_type": "code",
   "execution_count": null,
   "metadata": {
    "colab": {
     "base_uri": "https://localhost:8080/",
     "height": 302
    },
    "colab_type": "code",
    "id": "SMWL2XmjfpPk",
    "outputId": "d8fcdf16-37bd-4377-a637-ef91079e7ffa"
   },
   "outputs": [],
   "source": [
    "# Image attributes\n",
    "img_path='example_images/fish.jpg'\n",
    "img_path='example_images/car.jpg'\n",
    "img_path='example_images/example2.jpg'\n",
    "img_path='example_images/example1.jpg'\n",
    "\n",
    "img = Image.open(img_path).convert('RGB')\n",
    "image = np.array(img)\n",
    "print(image.shape)\n",
    "\n",
    "height=image.shape[0]\n",
    "width=image.shape[1]\n",
    "imshow(image)"
   ]
  },
  {
   "cell_type": "markdown",
   "metadata": {},
   "source": [
    "Users can define their own start_points and end_points, defined here https://en.wikipedia.org/wiki/M%C3%B6bius_transformation#Explicit_determinant_formula\n",
    "\n",
    "(must be with height and width of the input images )\n",
    "\n",
    "Format for start_points and end_points\n",
    "\n",
    "start_points = start1_x, start1_y, start2_x, start2_y, start3_x, start3_y \n",
    "\n",
    "end_points = end1_x, end1_y, end2_x, end2_y, end3_x, end3_y\n",
    "\n",
    "(start1_x, start1_y) means height and width of start point 1"
   ]
  },
  {
   "cell_type": "code",
   "execution_count": null,
   "metadata": {
    "colab": {
     "base_uri": "https://localhost:8080/",
     "height": 327
    },
    "colab_type": "code",
    "id": "tOAlFvLgbh0u",
    "outputId": "f0cbd934-7449-42b9-dabb-5a416aaa205b"
   },
   "outputs": [],
   "source": [
    "# M must be >1\n",
    "# The smaller M is, the more \"normal\" the output looks\n",
    "M=5\n",
    "\n",
    "# Mode can be chosen from 'reflect’, ‘constant’, ‘nearest’, ‘mirror’, ‘wrap’\n",
    "mode = 'wrap'\n",
    "\n",
    "# if user_defined == False, then it is random (recommended)\n",
    "user_defined = False\n",
    "start_points = 32, 16, 16, 32, 32, 48 \n",
    "end_points = 16, 32, 32, 48, 48, 32\n",
    "new_image, uninterpolated_image = mobius_fast_interpolation(image,\n",
    "                                                            M, \n",
    "                                                            mode = mode,\n",
    "                                                            output_height=height, \n",
    "                                                            output_width=width,\n",
    "                                                            user_defined=user_defined,\n",
    "                                                            start_points = start_points,\n",
    "                                                            end_points = end_points)\n",
    "\n",
    "\n"
   ]
  },
  {
   "cell_type": "code",
   "execution_count": null,
   "metadata": {},
   "outputs": [],
   "source": [
    "new_image"
   ]
  },
  {
   "cell_type": "code",
   "execution_count": null,
   "metadata": {},
   "outputs": [],
   "source": [
    "uninterpolated_image "
   ]
  }
 ],
 "metadata": {
  "colab": {
   "collapsed_sections": [],
   "name": "Mobius_drawing.ipynb",
   "provenance": []
  },
  "kernelspec": {
   "display_name": "Python 3",
   "language": "python",
   "name": "python3"
  },
  "language_info": {
   "codemirror_mode": {
    "name": "ipython",
    "version": 3
   },
   "file_extension": ".py",
   "mimetype": "text/x-python",
   "name": "python",
   "nbconvert_exporter": "python",
   "pygments_lexer": "ipython3",
   "version": "3.8.5"
  }
 },
 "nbformat": 4,
 "nbformat_minor": 4
}
